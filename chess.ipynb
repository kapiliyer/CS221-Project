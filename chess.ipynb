{
 "cells": [
  {
   "cell_type": "code",
   "execution_count": 1,
   "id": "ba45df4a",
   "metadata": {},
   "outputs": [],
   "source": [
    "import modin.pandas as pd; import ray; ray.init()\n",
    "import numpy as np\n",
    "from sklearn.model_selection import train_test_split\n",
    "import chess\n",
    "\n",
    "PATH = 'data/chessData.csv'"
   ]
  },
  {
   "cell_type": "code",
   "execution_count": 2,
   "id": "1721418f",
   "metadata": {},
   "outputs": [
    {
     "name": "stderr",
     "output_type": "stream",
     "text": [
      "2023-05-20 21:11:26,169\tWARNING __init__.py:183 -- DeprecationWarning: `ray.worker.global_worker` is a private attribute and access will be removed in a future Ray version.\n",
      "RayDeprecationWarning: This API is deprecated and may be removed in future Ray releases. You could suppress this warning by setting env variable PYTHONWARNINGS=\"ignore::DeprecationWarning\"\n",
      "This function is deprecated and will be removed by Ray 2.4. Please use Runtime Environments https://docs.ray.io/en/releases-2.4.0/ray-core/handling-dependencies.html to manage dependencies in workers.\n"
     ]
    }
   ],
   "source": [
    "df = pd.read_csv(PATH, encoding=\"utf-8\")\n",
    "# 1 million datapoints. Preprocess to remove \"mate in X\" evaluations with '#' character. All values between -2k and 2k centipawns. No 0-evaluation.\n",
    "df['Evaluation'] = df['Evaluation'].apply(pd.to_numeric, errors='coerce')\n",
    "df = df[(-2000 <= df['Evaluation']) & (df['Evaluation'] <= 2000) & (df['Evaluation'] != 0)].dropna()[:1000000]\n",
    "x = df['FEN']\n",
    "y = df['Evaluation']"
   ]
  },
  {
   "cell_type": "code",
   "execution_count": null,
   "id": "f2743de5",
   "metadata": {},
   "outputs": [],
   "source": [
    "fig = y.plot.hist(bins=100)\n",
    "fig.set_title('Distribution of Evaluation Scores over Dataset')\n",
    "fig.set_xlabel('Evaluation Score (Centipawns)')"
   ]
  },
  {
   "cell_type": "code",
   "execution_count": null,
   "id": "2aa70702",
   "metadata": {},
   "outputs": [],
   "source": [
    "### 80/10/10 train/val/test split\n",
    "x_train, x_test, y_train, y_test  = train_test_split(x, y, test_size=0.2, random_state=1)\n",
    "x_val, x_test, y_val, y_test = train_test_split(x_test, y_test, test_size=0.5, random_state=1)\n",
    "print('Train/Validation/Test Splits: ' , y_train.shape[0], y_val.shape[0], y_test.shape[0])"
   ]
  },
  {
   "cell_type": "code",
   "execution_count": null,
   "id": "3ece20c8",
   "metadata": {},
   "outputs": [],
   "source": [
    "\"\"\"\n",
    "Credits to @shailesh for portions of this code.\n",
    "https://github.com/ShaileshSridhar2403/neuralStockfish\n",
    "\"\"\"\n",
    "pieces = (chess.PAWN,chess.KNIGHT,chess.BISHOP,chess.ROOK,chess.QUEEN,chess.KING)\n",
    "colours = (chess.WHITE,chess.BLACK)\n",
    "\n",
    "def fenToVec(fen):\n",
    "\t\"\"\"\n",
    "\tInput: \n",
    "\tFEN string.\n",
    "\t\n",
    "\tOutput: 768-vector. Each of the 12 sets (where each set is one of the unique pieces) \n",
    "\tof 64 elements (where each element is a square) is a one-hot encoding of whether the\n",
    "\tpiece is on the square. 12 * 64 = 768.\n",
    "\t\"\"\"\n",
    "\tposFen = fen.split()[0]\n",
    "\tboard = chess.BaseBoard(posFen)\n",
    "\tl = []\n",
    "\t\n",
    "\tfor colour in colours:\n",
    "\t\tfor piece in pieces:\n",
    "\t\t\tv = np.zeros(64)\n",
    "\t\t\tfor i in board.pieces(piece,colour):\n",
    "\t\t\t\tv[i] = 1\n",
    "\t\t\tl.append(v)\n",
    "\tl = np.concatenate(l)\n",
    "\treturn l\n",
    "\n",
    "\n",
    "def vecToFen(vec, whiteTurn=True):\n",
    "\t\"\"\"\n",
    "\tReverses above function.\n",
    "\t\"\"\"\n",
    "\tvecList = np.split(vec,12)\n",
    "\twhiteList = vecList[:6]\n",
    "\tblackList = vecList[6:]\n",
    "\tboard = chess.BaseBoard()\n",
    "\tboard.clear_board()\n",
    "\tfor pieceType in range(len(whiteList)):\n",
    "\t\tpieceArr = whiteList[pieceType]\n",
    "\t\tfor ind in range(len(pieceArr)):\n",
    "\t\t\tif pieceArr[ind]:\n",
    "\t\t\t\tboard.set_piece_at(ind ,chess.Piece(pieces[pieceType],chess.WHITE))\n",
    "\t\t\t\t\n",
    "\tfor pieceType in range(len(blackList)):\n",
    "\t\tpieceArr = blackList[pieceType]\n",
    "\t\tfor ind in range(len(pieceArr)):\n",
    "\t\t\tif pieceArr[ind]:\n",
    "\t\t\t\tboard.set_piece_at(ind ,chess.Piece(pieces[pieceType],chess.BLACK))\n",
    "\t\n",
    "\treturn board.board_fen() + (' w' if whiteTurn else ' b')"
   ]
  },
  {
   "cell_type": "code",
   "execution_count": null,
   "id": "ffd70cbf",
   "metadata": {},
   "outputs": [],
   "source": [
    "def isWhiteTurn(fen):\n",
    "    \"\"\" \n",
    "    Returns whether it is white's turn, given fen string.\n",
    "    \"\"\"\n",
    "    return fen.split()[1] == 'w'"
   ]
  },
  {
   "cell_type": "code",
   "execution_count": null,
   "id": "8fb7a9ff",
   "metadata": {},
   "outputs": [],
   "source": [
    "class BaselineModel:\n",
    "    def __init__(self):\n",
    "        # Value of pieces in centipawns.\n",
    "        self.values = {chess.PAWN:100, chess.KNIGHT:300, chess.BISHOP:300, chess.ROOK:500, chess.QUEEN:900, chess.KING:0}\n",
    "\n",
    "    def predict(self, x):\n",
    "        board = chess.BaseBoard(x.split()[0])\n",
    "        return sum((1 if piece.color == chess.WHITE else -1) * self.values[piece.piece_type] for piece in board.piece_map().values())"
   ]
  },
  {
   "cell_type": "code",
   "execution_count": null,
   "id": "ff72f31e",
   "metadata": {},
   "outputs": [],
   "source": [
    "### Testing Above Functions\n",
    "baseline = BaselineModel()\n",
    "\n",
    "x = baseline.predict('8/8/8/4p1K1/2k1P3/8/8/8 b - - 0 1')\n",
    "print(x, isWhiteTurn('8/8/8/4p1K1/2k1P3/8/8/8 b - - 0 1')) # 0 False\n",
    "\n",
    "x = baseline.predict('2k5/5n2/8/8/8/8/1R5R/3K4 w - - 0 1')\n",
    "print(x, isWhiteTurn('2k5/5n2/8/8/8/8/1R5R/3K4 w - - 0 1')) # 700 True"
   ]
  },
  {
   "cell_type": "code",
   "execution_count": null,
   "id": "56f29664",
   "metadata": {},
   "outputs": [],
   "source": [
    "def eval(y, y_pred):\n",
    "    \"\"\"\n",
    "    Returns MSE of evaluation scores and accuracy of sign of evaluation \n",
    "    scores (which indicate winning player).\n",
    "    \"\"\"\n",
    "    mse = np.mean((y - y_pred)**2)\n",
    "    accuracy = np.mean(np.sign(y) == np.sign(y_pred))\n",
    "    return mse, accuracy"
   ]
  },
  {
   "cell_type": "code",
   "execution_count": null,
   "id": "cb373829",
   "metadata": {},
   "outputs": [],
   "source": [
    "### Baseline Test\n",
    "baseline = BaselineModel()\n",
    "\n",
    "y_pred = x_train.apply(baseline.predict)\n",
    "mse, accuracy = eval(y_train, y_pred)\n",
    "print(f'Baseline Train Error: {mse}.')\n",
    "print(f'Baseline Train Accuracy: {accuracy}.')\n",
    "\n",
    "y_pred = x_val.apply(baseline.predict)\n",
    "mse, accuracy = eval(y_val, y_pred)\n",
    "print(f'Baseline Validation Error: {mse}.')\n",
    "print(f'Baseline Validation Accuracy: {accuracy}.')"
   ]
  }
 ],
 "metadata": {
  "kernelspec": {
   "display_name": "Python 3",
   "language": "python",
   "name": "python3"
  },
  "language_info": {
   "codemirror_mode": {
    "name": "ipython",
    "version": 3
   },
   "file_extension": ".py",
   "mimetype": "text/x-python",
   "name": "python",
   "nbconvert_exporter": "python",
   "pygments_lexer": "ipython3",
   "version": "3.7.12"
  }
 },
 "nbformat": 4,
 "nbformat_minor": 5
}
